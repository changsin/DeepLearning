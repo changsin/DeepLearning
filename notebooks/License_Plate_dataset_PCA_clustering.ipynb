{
  "nbformat": 4,
  "nbformat_minor": 0,
  "metadata": {
    "colab": {
      "name": "UFPR-License-Plate-dataset.ipynb",
      "provenance": [],
      "toc_visible": true,
      "machine_shape": "hm",
      "mount_file_id": "1B6k834f69h1QOeq3hXcf-s-8XSzH2ORz",
      "authorship_tag": "ABX9TyNntA3Gl5YxxR8I8W57dqwc",
      "include_colab_link": true
    },
    "kernelspec": {
      "name": "python3",
      "display_name": "Python 3"
    },
    "accelerator": "TPU"
  },
  "cells": [
    {
      "cell_type": "markdown",
      "metadata": {
        "id": "view-in-github",
        "colab_type": "text"
      },
      "source": [
        "<a href=\"https://colab.research.google.com/github/changsin/FSDL/blob/main/notebooks/License_Plate_dataset_PCA_clustering.ipynb\" target=\"_parent\"><img src=\"https://colab.research.google.com/assets/colab-badge.svg\" alt=\"Open In Colab\"/></a>"
      ]
    },
    {
      "cell_type": "markdown",
      "metadata": {
        "id": "LY4OkIZTqRIU"
      },
      "source": [
        "# Brazilean license plate dataset\n",
        "\n",
        "The dataset came from: https://web.inf.ufpr.br/vri/databases/ufpr-alpr/\n"
      ]
    },
    {
      "cell_type": "code",
      "metadata": {
        "id": "vQ2-8oKLaAUt",
        "colab": {
          "base_uri": "https://localhost:8080/"
        },
        "outputId": "ce7174ec-7d7d-4bb1-b93f-e40fbe53639f"
      },
      "source": [
        "from google.colab import drive\n",
        "drive.mount('/content/drive')"
      ],
      "execution_count": 1,
      "outputs": [
        {
          "output_type": "stream",
          "text": [
            "Mounted at /content/drive\n"
          ],
          "name": "stdout"
        }
      ]
    },
    {
      "cell_type": "code",
      "metadata": {
        "id": "4MdWuEIUZT4t"
      },
      "source": [
        "# DATA_ROOT = \"./drive/MyDrive/data/UFPR_YOLO\"\n",
        "DATA_ROOT = \"./drive/MyDrive/data/Kaggle_license_plates\""
      ],
      "execution_count": 2,
      "outputs": []
    },
    {
      "cell_type": "markdown",
      "metadata": {
        "id": "EvWkllBpMC75"
      },
      "source": [
        "# Load the data"
      ]
    },
    {
      "cell_type": "markdown",
      "metadata": {
        "id": "d2OUMvgoTvRx"
      },
      "source": [
        "## Methods"
      ]
    },
    {
      "cell_type": "code",
      "metadata": {
        "id": "e4Umzen5aPbN"
      },
      "source": [
        "IMAGE_SIZE = 224"
      ],
      "execution_count": 3,
      "outputs": []
    },
    {
      "cell_type": "code",
      "metadata": {
        "id": "0tQVhQUIbTRa"
      },
      "source": [
        "%matplotlib inline\n",
        "\n",
        "import pandas as pd\n",
        "import numpy as np\n",
        "from matplotlib import pyplot as plt\n",
        "import seaborn as sns\n",
        "import cv2\n",
        "import os\n",
        "import glob"
      ],
      "execution_count": 4,
      "outputs": []
    },
    {
      "cell_type": "code",
      "metadata": {
        "id": "lAb2E6R3iTiA"
      },
      "source": [
        "from lxml import etree\n",
        "import json\n",
        "\n",
        "def to_json(path, data):\n",
        "  \"\"\"\n",
        "  save json data to path\n",
        "  \"\"\"\n",
        "  # y_yolov5_lists = y_yolov5.tolist()\n",
        "  # json_str = json.dumps(y_yolov5_lists)\n",
        "  with open(path, 'w', encoding='utf-8') as file:\n",
        "      json.dump(data, file, ensure_ascii=False, indent=4)\n",
        "\n",
        "def from_json(path):\n",
        "  \"\"\"\n",
        "  save json data to path\n",
        "  \"\"\"\n",
        "  file = open(path, 'r', encoding='utf-8')\n",
        "  return json.load(file)\n",
        "\n",
        "def resize_annotation(f):\n",
        "    tree = etree.parse(f)\n",
        "    for dim in tree.xpath(\"size\"):\n",
        "        width = int(dim.xpath(\"width\")[0].text)\n",
        "        height = int(dim.xpath(\"height\")[0].text)\n",
        "    for dim in tree.xpath(\"object/bndbox\"):\n",
        "        xmin = int(dim.xpath(\"xmin\")[0].text)/(width/IMAGE_SIZE)\n",
        "        ymin = int(dim.xpath(\"ymin\")[0].text)/(height/IMAGE_SIZE)\n",
        "        xmax = int(dim.xpath(\"xmax\")[0].text)/(width/IMAGE_SIZE)\n",
        "        ymax = int(dim.xpath(\"ymax\")[0].text)/(height/IMAGE_SIZE)\n",
        "\n",
        "    # y_yolov5 = np.array([to_yolov5(y) for y in y_train_raw])\n",
        "    return [int(xmin), int(ymin), int(xmax), int(ymax)]\n",
        "\n",
        "def extract_annotations(label_file, class_id):\n",
        "  labels = []\n",
        "  with open(label_file, \"r\") as file:\n",
        "    count = 0\n",
        "    for line in file:\n",
        "      tokens = [float(token) for token in line.split()]\n",
        "      if tokens[0] == class_id:\n",
        "        count += 1\n",
        "        # print(line)\n",
        "        labels.append(np.array(tokens[1:]))\n",
        "\n",
        "    if count > 1:\n",
        "      print(\"WARNING: More than one license plate was found: \", count, label_file)\n",
        "    elif count == 0:\n",
        "      print(\"WARNING: No license plate was found: \", count, label_file)\n",
        "\n",
        "  return np.array(labels)\n",
        "\n",
        "def to_yolov5(y):\n",
        "  \"\"\"\n",
        "  # change to yolo v5 format\n",
        "  # https://github.com/ultralytics/yolov5/issues/12\n",
        "  # [x_top_left, y_top_left, x_bottom_right, y_bottom_right] to\n",
        "  # [x_center, y_center, width, height]\n",
        "  \"\"\"\n",
        "  width = y[2] - y[0]\n",
        "  height = y[3] - y[1]\n",
        "\n",
        "  if width < 0 or height < 0:\n",
        "    print(\"ERROR: negative width or height \", width, height, y)\n",
        "    raise AssertionError(\"Negative width or height\")\n",
        "  return int(y[0] + (width/2)), int(y[1] + (height/2)), width, height"
      ],
      "execution_count": 5,
      "outputs": []
    },
    {
      "cell_type": "code",
      "metadata": {
        "id": "pNFjvU_EnlcV"
      },
      "source": [
        "def load_images(path):\n",
        "  path = os.path.join(path,'*')\n",
        "  files = glob.glob(path)\n",
        "  # We sort the images in alphabetical order to match them\n",
        "  #  to the annotation files\n",
        "  files.sort()\n",
        "\n",
        "  X_raw = []\n",
        "  for file in files:\n",
        "    image = cv2.imread(file)\n",
        "    image = cv2.resize(image, (IMAGE_SIZE,IMAGE_SIZE))\n",
        "    X_raw.append(np.array(image))\n",
        "\n",
        "  return np.array(X_raw)\n",
        "\n",
        "def load_labels(path, yolov5=True):\n",
        "  \"\"\"\n",
        "  if path is an annotation file, just load it\n",
        "  and return it immediately to save time\n",
        "  \"\"\"\n",
        "  if path.endswith('.json'):\n",
        "    return from_json(path)\n",
        "\n",
        "  path = os.path.join(path,'*')\n",
        "  files = glob.glob(path)\n",
        "  files.sort()\n",
        "\n",
        "  y_raw = []\n",
        "  for file in files:\n",
        "    if yolov5:\n",
        "      y_raw.append(extract_annotations(file, 0))\n",
        "    else:\n",
        "      y_raw.append(resize_annotation(file))\n",
        "  return np.array(y_raw)"
      ],
      "execution_count": 6,
      "outputs": []
    },
    {
      "cell_type": "code",
      "metadata": {
        "id": "enXm7FVGhy_m"
      },
      "source": [
        "# transform to arrays and normalize\n",
        "def normalize(X_raw, y_raw):\n",
        "  X = np.array(X_raw)\n",
        "  y = np.array(y_raw)\n",
        "  y = y.reshape((y.shape[0], -1))\n",
        "\n",
        "  #  Renormalisation\n",
        "  X = X / IMAGE_SIZE\n",
        "  y = y / IMAGE_SIZE\n",
        "\n",
        "  return X, y"
      ],
      "execution_count": 7,
      "outputs": []
    },
    {
      "cell_type": "code",
      "metadata": {
        "id": "9_3kpZPEiXXQ"
      },
      "source": [
        "import matplotlib.patches as patches\n",
        "\n",
        "def create_patch_rectangle(y, color):\n",
        "  # width = y[2] - y[0]\n",
        "  # height = y[3] - y[1]\n",
        "  # return patches.Rectangle((y[0], y[1]),\n",
        "  #                           width, height,\n",
        "  #                           edgecolor=color, fill=False)\n",
        "  # # in yolov5\n",
        "  width = int(y[2])\n",
        "  height = int(y[3])\n",
        "  return patches.Rectangle((int(y[0] - width/2), int(y[1] - height/2)),\n",
        "                           width, height,\n",
        "                           edgecolor=color, fill=False)\n",
        "def plot_images(X, y, limit=10):\n",
        "  fig = plt.figure(figsize=(20,40))\n",
        "\n",
        "  # The number of images for plotting is limited to 50\n",
        "  end_id = len(y) if len(y) < limit else limit\n",
        "\n",
        "  for i in range(0, end_id):\n",
        "    axis = fig.add_subplot(10, 5, i+1)\n",
        "    plt.axis('off')\n",
        "    image = X[i]\n",
        "\n",
        "    rect_ori = create_patch_rectangle(y[i]*IMAGE_SIZE, (0, 255/255, 0))\n",
        "    axis.add_patch(rect_ori)\n",
        "    plt.imshow(np.clip(image, 0, 1))\n",
        "# plot_images(X_train_d[0], y_train_d[0])"
      ],
      "execution_count": 8,
      "outputs": []
    },
    {
      "cell_type": "markdown",
      "metadata": {
        "id": "0JRji1gUTr9G"
      },
      "source": [
        "## Execution"
      ]
    },
    {
      "cell_type": "markdown",
      "metadata": {
        "id": "uVyGc4HYbjaQ"
      },
      "source": [
        "### UFPR dataset"
      ]
    },
    {
      "cell_type": "code",
      "metadata": {
        "id": "l2_DJPT7bfw0"
      },
      "source": [
        "X_train_raw = load_images(DATA_ROOT + \"/images/train/\")\n",
        "# X_test_raw = load_images(DATA_ROOT + \"/images/test/\")\n",
        "# X_val_raw = load_images(DATA_ROOT + \"/images/validation/\")\n",
        "\n",
        "y_train_raw = load_labels(DATA_ROOT + \"/labels/train/\")\n",
        "# y_val_raw = load_labels(DATA_ROOT + \"/labels/validation/\")\n",
        "# y_test_raw = load_labels(DATA_ROOT + \"/labels/test/\")"
      ],
      "execution_count": 15,
      "outputs": []
    },
    {
      "cell_type": "code",
      "metadata": {
        "id": "6up3SdpzRaIt"
      },
      "source": [
        "# # from sklearn.model_selection import train_test_split\n",
        "# # TODO\n",
        "# X_train_raw = X_raw\n",
        "\n",
        "X_train, y_train = normalize(X_train_raw, y_train_raw)\n",
        "# X_val, y_val = normalize(X_val_raw, y_val_raw)\n",
        "# X_test, y_test = normalize(X_test_raw, y_test_raw)"
      ],
      "execution_count": null,
      "outputs": []
    },
    {
      "cell_type": "markdown",
      "metadata": {
        "id": "Qgh-zc8zbgLC"
      },
      "source": [
        "### Kaggle dataset"
      ]
    },
    {
      "cell_type": "code",
      "metadata": {
        "id": "pousumbja-_s"
      },
      "source": [
        "X_train_raw = load_images(DATA_ROOT + \"/images/\")\n",
        "y_train_raw = load_labels(DATA_ROOT + \"/annotations.json\")\n",
        "X_train, y_train = normalize(X_train_raw, y_train_raw)"
      ],
      "execution_count": 9,
      "outputs": []
    },
    {
      "cell_type": "markdown",
      "metadata": {
        "id": "SXlK0eGjL-0R"
      },
      "source": [
        "# Clustering"
      ]
    },
    {
      "cell_type": "markdown",
      "metadata": {
        "id": "mvTRFJuGPEVV"
      },
      "source": [
        "### Methods"
      ]
    },
    {
      "cell_type": "markdown",
      "metadata": {
        "id": "RCsv_BiWXvws"
      },
      "source": [
        "#### PCA"
      ]
    },
    {
      "cell_type": "code",
      "metadata": {
        "id": "Lqlxoy0cXuyL"
      },
      "source": [
        "from sklearn.decomposition import PCA\n",
        "\n",
        "def to_pca(X_train, y_train):\n",
        "  X_train_flatten = X_train.reshape(X_train.shape[0], -1)\n",
        "\n",
        "  pca = PCA(2)\n",
        "\n",
        "  X_train_pca = pca.fit_transform(X_train_flatten)\n",
        "\n",
        "  # plot the scatter plot along the way\n",
        "  plt.figure(1)\n",
        "  plt.clf()\n",
        "\n",
        "  plt.scatter(X_train_pca[:, 0], X_train_pca[:, 1], c=y_train, cmap=\"Paired\")\n",
        "  plt.colorbar()\n",
        "\n",
        "  return X_train_pca"
      ],
      "execution_count": 36,
      "outputs": []
    },
    {
      "cell_type": "code",
      "metadata": {
        "id": "gBX-4A7TiPLv"
      },
      "source": [
        "def to_pca_3d(X_train, y_train):\n",
        "  X_train_flatten = X_train.reshape(X_train.shape[0], -1)\n",
        "\n",
        "  pca = PCA(3)\n",
        "\n",
        "  X_train_pca = pca.fit_transform(X_train_flatten)\n",
        "\n",
        "  fig = plt.figure()\n",
        "  ax = fig.add_subplot(111, projection='3d')\n",
        "  # ax = Axes3D(fig)\n",
        "\n",
        "  ax.scatter(X_train_pca[:, 0], X_train_pca[:, 1],  X_train_pca[:, 2],\n",
        "              c=y_train, cmap=\"Paired\")\n",
        "  # ax.colorbar()\n",
        "\n",
        "  return X_train_pca"
      ],
      "execution_count": 49,
      "outputs": []
    },
    {
      "cell_type": "code",
      "metadata": {
        "id": "O7uFtCraWspu"
      },
      "source": [
        "from sklearn.cluster import KMeans\n",
        "\n",
        "def get_clusters(X_train_pca):\n",
        "  kmeans = KMeans(n_clusters=K, random_state=0)\n",
        "  X_train_pca_clusters = kmeans.fit(X_train_pca)\n",
        "\n",
        "  return X_train_pca_clusters, kmeans\n",
        "\n",
        "def get_feature_map_clusters(X, K):\n",
        "  \"\"\"\n",
        "  param X: input data\n",
        "  param K: number of clusters\n",
        "  returns: X_clusters - clustered input data\n",
        "\n",
        "  (side effect): plots the frequency histogram of clusters\n",
        "  \"\"\"\n",
        "  X_fm, _ = get_feature_maps(X)\n",
        "  # use cosine distance to find similarities\n",
        "  X_fm_normalized = preprocessing.normalize(X_fm.reshape(len(X_fm), -1))\n",
        "\n",
        "  return get_clusters(X_fm_normalized)\n",
        "\n",
        "def to_cluster_ids(bins, labels):\n",
        "  \"\"\"\n",
        "  param bins: range of K\n",
        "  param labels: cluster labels\n",
        "  returns: dictionary of cluster IDs\n",
        "  \"\"\"\n",
        "  cluster_dict = dict()\n",
        "  for cluster_id in bins:\n",
        "    cluster_dict[cluster_id] = np.where(labels == cluster_id)[0]\n",
        "  return cluster_dict\n",
        "\n",
        "def to_clusters_dict(X, y, X_clusters, K):\n",
        "  X_cluster_ids = to_cluster_ids(range(K), X_clusters.labels_)\n",
        "\n",
        "  X_dict = {}\n",
        "  y_dict = {}\n",
        "  for id in range(K):\n",
        "    ids = X_cluster_ids[id]\n",
        "    X_dict[id] = X[ids]\n",
        "    y_dict[id] = y[ids]\n",
        "\n",
        "  return X_dict, y_dict"
      ],
      "execution_count": 18,
      "outputs": []
    },
    {
      "cell_type": "code",
      "metadata": {
        "id": "NuzCfMmwYaJj"
      },
      "source": [
        "def plot_cluster_histogram(X_clusters, K):\n",
        "  histo_x, bins = np.histogram(X_clusters.labels_, bins=range(K + 1))\n",
        "  plt.bar(bins[:-1], histo_x, align='center')\n",
        "\n",
        "def plot_pca_clusters(X_train_pca, kmeans):\n",
        "  # kmeans, X_train_pca_clusters = get_clusters(X_train_pca)\n",
        "\n",
        "  # Step size of the mesh. Decrease to increase the quality of the VQ.\n",
        "  h = .02     # point in the mesh [x_min, x_max]x[y_min, y_max].\n",
        "\n",
        "  # Plot the decision boundary. For that, we will assign a color to each\n",
        "  x_min, x_max = X_train_pca[:, 0].min() - 1, X_train_pca[:, 0].max() + 1\n",
        "  y_min, y_max = X_train_pca[:, 1].min() - 1, X_train_pca[:, 1].max() + 1\n",
        "  xx, yy = np.meshgrid(np.arange(x_min, x_max, h), np.arange(y_min, y_max, h))\n",
        "\n",
        "  # Obtain labels for each point in mesh. Use last trained model.\n",
        "  Z = kmeans.predict(np.c_[xx.ravel(), yy.ravel()])\n",
        "\n",
        "  # Put the result into a color plot\n",
        "  Z = Z.reshape(xx.shape)\n",
        "\n",
        "  plt.figure(2)\n",
        "  # plt.clf()\n",
        "  plt.imshow(Z, interpolation=\"nearest\",\n",
        "            extent=(xx.min(), xx.max(), yy.min(), yy.max()),\n",
        "            cmap=plt.cm.Paired, aspect=\"auto\", origin=\"lower\")\n",
        "\n",
        "  plt.plot(X_train_pca[:, 0], X_train_pca[:, 1], 'k.', markersize=2)\n",
        "  # Plot the centroids as a white X\n",
        "  centroids = kmeans.cluster_centers_\n",
        "  plt.scatter(centroids[:, 0], centroids[:, 1], marker=\"x\", s=169, linewidths=3,\n",
        "              color=\"w\", zorder=10)\n",
        "  plt.title(\"K-means clustering on the PCA-reduced data\\n\"\n",
        "            \"Centroids are marked with white cross\")\n",
        "  plt.xlim(x_min, x_max)\n",
        "  plt.ylim(y_min, y_max)\n",
        "  plt.xticks(())\n",
        "  plt.yticks(())\n",
        "  plt.show()"
      ],
      "execution_count": 34,
      "outputs": []
    },
    {
      "cell_type": "code",
      "metadata": {
        "id": "YXeR0EfTITAb"
      },
      "source": [
        "from sklearn.model_selection import train_test_split\n",
        "\n",
        "def partition_on_clusters(X_d, y_d, bins, val_size=0.1, test_size=0.2):\n",
        "  X_train_d = dict()\n",
        "  y_train_d = dict()\n",
        "  X_val_d = dict()\n",
        "  y_val_d = dict()\n",
        "  X_test_d = dict()\n",
        "  y_test_d = dict()\n",
        "\n",
        "  # for each cluster reserve test_size portion for test data\n",
        "  for id in bins:\n",
        "    Xt_train, Xt_test, yt_train, yt_test = \\\n",
        "      train_test_split(X_d[id], y_d[id], test_size=0.2, shuffle=False)\n",
        "    Xt_train, Xt_val, yt_train, yt_val = \\\n",
        "      train_test_split(Xt_train, yt_train, test_size=0.1, shuffle=False)\n",
        "\n",
        "    X_train_d[id] = Xt_train\n",
        "    y_train_d[id] = yt_train\n",
        "\n",
        "    X_val_d[id] = Xt_val\n",
        "    y_val_d[id] = yt_val\n",
        "\n",
        "    X_test_d[id] = Xt_test\n",
        "    y_test_d[id] = yt_test\n",
        "\n",
        "  return X_train_d, y_train_d, \\\n",
        "         X_val_d, y_val_d, \\\n",
        "         X_test_d, y_test_d"
      ],
      "execution_count": 13,
      "outputs": []
    },
    {
      "cell_type": "markdown",
      "metadata": {
        "id": "xmo2C_ADPLdy"
      },
      "source": [
        "### Execution"
      ]
    },
    {
      "cell_type": "code",
      "metadata": {
        "id": "Rov0kDhOYvM1",
        "outputId": "6adb939c-7ca4-4c5d-858c-ce4ecd7b0fda",
        "colab": {
          "base_uri": "https://localhost:8080/",
          "height": 786
        }
      },
      "source": [
        "K = 5\n",
        "X_train_pca = to_pca(X_train, y_train)\n",
        "X_train_pca_clusters, pca_kmeans = get_clusters(X_train_pca)\n",
        "plot_pca_clusters(X_train_pca, pca_kmeans)\n",
        "plot_cluster_histogram(X_train_pca_clusters, K)"
      ],
      "execution_count": 38,
      "outputs": [
        {
          "output_type": "display_data",
          "data": {
            "image/png": "[encoded data removed]",
            "text/plain": [
              "<Figure size 432x288 with 2 Axes>"
            ]
          },
          "metadata": {
            "tags": [],
            "needs_background": "light"
          }
        },
        {
          "output_type": "display_data",
          "data": {
            "image/png": "[encoded data removed]",
            "text/plain": [
              "<Figure size 432x288 with 1 Axes>"
            ]
          },
          "metadata": {
            "tags": []
          }
        },
        {
          "output_type": "display_data",
          "data": {
            "image/png": "[encoded data removed]",
            "text/plain": [
              "<Figure size 432x288 with 1 Axes>"
            ]
          },
          "metadata": {
            "tags": [],
            "needs_background": "light"
          }
        }
      ]
    },
    {
      "cell_type": "code",
      "metadata": {
        "id": "QKWnnrLZilNC",
        "outputId": "3e008006-fe26-4a10-edc6-da6d936b0f11",
        "colab": {
          "base_uri": "https://localhost:8080/",
          "height": 248
        }
      },
      "source": [
        "X_train_pca_3d = to_pca_3d(X_train, y_train)\n"
      ],
      "execution_count": 50,
      "outputs": [
        {
          "output_type": "display_data",
          "data": {
            "image/png": "[encoded data removed]",
            "text/plain": [
              "<Figure size 432x288 with 1 Axes>"
            ]
          },
          "metadata": {
            "tags": [],
            "needs_background": "light"
          }
        }
      ]
    },
    {
      "cell_type": "code",
      "metadata": {
        "id": "hfSUc8NHdB1w"
      },
      "source": [
        "X_train_d, y_train_d = to_clusters_dict(X_train, y_train, X_train_pca_clusters, K)"
      ],
      "execution_count": 22,
      "outputs": []
    },
    {
      "cell_type": "code",
      "metadata": {
        "id": "qXg46UsiM9Za"
      },
      "source": [
        "X_train_d, y_train_d, X_val_d, y_val_d, X_test_d, y_test_d = \\\n",
        "          partition_on_clusters(X_train_d, y_train_d, range(K))"
      ],
      "execution_count": 23,
      "outputs": []
    },
    {
      "cell_type": "code",
      "metadata": {
        "id": "u50MSghvdX7Z"
      },
      "source": [
        "plot_images(X_train_d[0], y_train_d[0], limit=50)"
      ],
      "execution_count": null,
      "outputs": []
    },
    {
      "cell_type": "markdown",
      "metadata": {
        "id": "k-jYzEkKXJSR"
      },
      "source": [
        "# Models"
      ]
    },
    {
      "cell_type": "markdown",
      "metadata": {
        "id": "b8L1sXD0XQ6V"
      },
      "source": [
        "## Methods"
      ]
    },
    {
      "cell_type": "code",
      "metadata": {
        "id": "HyYc1vcvXPQx"
      },
      "source": [
        "def create_model(train_size, probability=True):\n",
        "  kl_divergence_fn = lambda q, p, _: dist.kl_divergence(q, p) / tf.cast(y_train.shape[0], dtype=tf.float32)\n",
        "\n",
        "  model = Sequential()\n",
        "  model.add(VGG16(weights=\"imagenet\", include_top=False, input_shape=(IMAGE_SIZE, IMAGE_SIZE, 3)))\n",
        "  model.add(Flatten())\n",
        "  model.add(Dense(128, activation=\"relu\"))\n",
        "  model.add(Dense(128, activation=\"relu\"))\n",
        "  model.add(Dense(64, activation=\"relu\"))\n",
        "\n",
        "  if probability:\n",
        "    model.add(tfp.layers.DenseFlipout(4, activation=\"sigmoid\", kernel_divergence_fn=kl_divergence_fn))\n",
        "  else:\n",
        "    model.add(Dense(4, activation=\"sigmoid\"))\n",
        "\n",
        "  model.layers[-6].trainable = False\n",
        "  model.summary()\n",
        "\n",
        "  model.compile(loss='mse', optimizer='adam', metrics=['accuracy'])\n",
        "\n",
        "  return model"
      ],
      "execution_count": null,
      "outputs": []
    },
    {
      "cell_type": "markdown",
      "metadata": {
        "id": "xz3y42knXUi3"
      },
      "source": [
        "# Train"
      ]
    },
    {
      "cell_type": "markdown",
      "metadata": {
        "id": "CyXG45TZXyZm"
      },
      "source": [
        "## Methods"
      ]
    },
    {
      "cell_type": "code",
      "metadata": {
        "id": "JQ_jK7qRXWNj"
      },
      "source": [
        "def train(model,\n",
        "          X_train, y_train,\n",
        "          X_val, y_val,\n",
        "          X_test, y_test,\n",
        "          epochs=50, batch_size=16,\n",
        "          is_plot_predictions=False):\n",
        "  train_history = model.fit(x=X_train, y=y_train,\n",
        "                            validation_data=(X_val, y_val),\n",
        "                            epochs=epochs, batch_size=batch_size, verbose=1,\n",
        "                            callbacks=[wandb.keras.WandbCallback(data_type=\"image\",\n",
        "                            save_model=False)])\n",
        "  # Test\n",
        "  scores = model.evaluate(X_test, y_test, verbose=0)\n",
        "  print(\"Score : %.2f%%\" % (scores[1]*100))\n",
        "\n",
        "  test_loss, test_accuracy = model.evaluate(X_test, y_test, steps=int(100))\n",
        "\n",
        "  print(\"Test results \\n Loss:\",test_loss,'\\n Accuracy',test_accuracy)\n",
        "\n",
        "  y_preds = sample_predictions(model, X_test, iterations=1)\n",
        "  # y_preds = model.predict(X_test)\n",
        "\n",
        "  # # TODO:\n",
        "  # # Hack to fix erroneous predictions\n",
        "  # y_preds = fix_predictions(y_preds)\n",
        "  if is_plot_predictions:\n",
        "    plot_predictions(X_test, y_test, y_preds)\n",
        "\n",
        "  # averaged_predictions = average_sample_preds(y_preds)\n",
        "  # y_test = np.array([to_rect(y*IMAGE_SIZE) for y in y_test])\n",
        "  # rectified_predictions = np.array([to_rect(y*IMAGE_SIZE) for y in averaged_predictions])\n",
        "\n",
        "  # # print(rectified_predictions)\n",
        "  # m_ap = calculate_map(y_test*IMAGE_SIZE, rectified_predictions*IMAGE_SIZE)\n",
        "  return model"
      ],
      "execution_count": null,
      "outputs": []
    },
    {
      "cell_type": "markdown",
      "metadata": {
        "id": "tQcPSyR5Apn4"
      },
      "source": [
        "### Sample predictions"
      ]
    },
    {
      "cell_type": "code",
      "metadata": {
        "id": "kZr7S3eSb-2n"
      },
      "source": [
        "# run predictions many times to get the distributions\n",
        "def sample_predictions(model, samples, iterations=100):\n",
        "    predicted = []\n",
        "    for _ in range(iterations):\n",
        "        predicted.append(model(samples).numpy())\n",
        "\n",
        "    predicted = np.array(predicted)\n",
        "    # predicted = np.concatenate(predicted, axis=1)\n",
        "\n",
        "    # predicted = np.array([model_prob.predict(np.expand_dims(X_test[1], [0])) for i in range(iterations)])\n",
        "    # predicted = np.concatenate(predicted, axis=1)\n",
        "    reshaped = np.array([predicted[:, column] for column in range(0, predicted.shape[1])])\n",
        "\n",
        "    return reshaped\n",
        "\n",
        "def predict_on_cluster(model, X_test, y_test, is_plot_predictions=False, iterations=50):\n",
        "  test_accuracy = 0\n",
        "  test_loss, test_accuracy = model.evaluate(X_test, y_test, steps=1)\n",
        "  y_preds = sample_predictions(model, X_test, iterations=iterations)\n",
        "\n",
        "  # TODO:\n",
        "  # Hack to fix erroneous predictions\n",
        "  # y_preds_fixed = fix_predictions(y_preds)\n",
        "  if is_plot_predictions:\n",
        "    plot_predictions(X_test, y_test, y_preds)\n",
        "\n",
        "  preds_avg = average_sample_preds(y_preds)\n",
        "  rectified_y_test = np.array([to_rect(y*IMAGE_SIZE) for y in y_test])\n",
        "  rectified_predictions = np.array([to_rect(y*IMAGE_SIZE) for y in preds_avg])\n",
        "\n",
        "  m_ap = calculate_map(rectified_y_test*IMAGE_SIZE, rectified_predictions*IMAGE_SIZE)\n",
        "  stds = np.mean(np.std(y_preds, axis=1), axis=1)\n",
        "\n",
        "  return y_preds, m_ap, np.mean(stds, axis=0), test_accuracy"
      ],
      "execution_count": null,
      "outputs": []
    },
    {
      "cell_type": "code",
      "metadata": {
        "id": "78iDihi3bPbx"
      },
      "source": [
        "def predict_on_models(X, y, bins, models):\n",
        "  stats = []\n",
        "  for model in models:\n",
        "    cluster_stats = []\n",
        "    for clst_id in bins:\n",
        "      # y_preds, m_ap, accuracy, mstd = predict_on_cluster(model, X[clst_ids[clst_id]], y[clst_ids[clst_id]])\n",
        "      y_preds, m_ap, std, accuracy = predict_on_cluster(model, X[clst_id], y[clst_id])\n",
        "      print(\"{} mAP: {:0.2f} std: {:0.2f} acc: {:0.2f}\".format(clst_id,\n",
        "                                                               m_ap['avg_prec'],\n",
        "                                                               std,\n",
        "                                                               accuracy))\n",
        "      cluster_stats.append([np.round(m_ap['avg_prec'], 3), np.round(std, 3), np.round(accuracy, 3)])\n",
        "\n",
        "    stats.append(cluster_stats)\n",
        "\n",
        "  return np.array(stats)"
      ],
      "execution_count": null,
      "outputs": []
    },
    {
      "cell_type": "markdown",
      "metadata": {
        "id": "Cfi0AX8gX8uf"
      },
      "source": [
        "## Execution"
      ]
    },
    {
      "cell_type": "code",
      "metadata": {
        "id": "hVj0vPtmX7W4"
      },
      "source": [
        "X_train = get_merged_data(X_train_d)\n",
        "y_train = get_merged_data(y_train_d)\n",
        "\n",
        "X_val = get_merged_data(X_val_d)\n",
        "y_val = get_merged_data(y_val_d)\n",
        "\n",
        "X_test = get_merged_data(X_test_d)\n",
        "y_test = get_merged_data(y_test_d)"
      ],
      "execution_count": null,
      "outputs": []
    },
    {
      "cell_type": "code",
      "metadata": {
        "id": "GeYFDS63Rqop"
      },
      "source": [
        "wandb.init(project=\"UFPR-cnn\",\n",
        "           config={\n",
        "               \"batch_size\": 16,\n",
        "               \"learning_rate\": 0.01,\n",
        "               \"dataset\": \"UFPR-cnn\",\n",
        "           })\n",
        "\n",
        "model_cnn = create_model(y_train.shape[0], probability=False)\n",
        "model_cnn = train(model_cnn,\n",
        "                  X_train, y_train,\n",
        "                  X_val, y_val,\n",
        "                  X_test, y_test, epochs=100)"
      ],
      "execution_count": null,
      "outputs": []
    },
    {
      "cell_type": "code",
      "metadata": {
        "id": "dnBI4Y9fR1R-"
      },
      "source": [
        "wandb.init(project=\"UFPR-prob\",\n",
        "           config={\n",
        "               \"batch_size\": 16,\n",
        "               \"learning_rate\": 0.01,\n",
        "               \"dataset\": \"UFPR-prob\",\n",
        "           })\n",
        "\n",
        "model_prob = create_model(y_train.shape[0], probability=True)\n",
        "model_prob = train(model_prob,\n",
        "                   X_train, y_train,\n",
        "                   X_val, y_val,\n",
        "                   X_test, y_test)"
      ],
      "execution_count": null,
      "outputs": []
    },
    {
      "cell_type": "markdown",
      "metadata": {
        "id": "5fQQ3Y9FY_YP"
      },
      "source": [
        "# Predict"
      ]
    },
    {
      "cell_type": "markdown",
      "metadata": {
        "id": "-QiLwODlZPXK"
      },
      "source": [
        "## Methods"
      ]
    },
    {
      "cell_type": "markdown",
      "metadata": {
        "id": "nKQgXQ4p8Kyb"
      },
      "source": [
        "### Plot predictions"
      ]
    },
    {
      "cell_type": "code",
      "metadata": {
        "id": "jZLNEMVCTpCT"
      },
      "source": [
        "def plot_predictions(X, y_gt, y_preds):\n",
        "  fig = plt.figure(figsize=(20,40))\n",
        "\n",
        "  # The number of images for plotting is limited to 50\n",
        "  end_id = len(y_gt) if len(y_gt) < 50 else 50\n",
        "\n",
        "  y_preds_avg = average_sample_preds(y_preds)\n",
        "  stds = np.std(y_preds, axis=1)\n",
        "  mean_stds = np.mean(stds, axis=1)\n",
        "\n",
        "  for i in range(0, end_id):\n",
        "    axis = fig.add_subplot(10, 5, i+1)\n",
        "    plt.axis('off')\n",
        "    image = X[i]\n",
        "\n",
        "    rect_ori = create_patch_rectangle(y_gt[i]*IMAGE_SIZE, (0, 255/255, 0))\n",
        "    axis.add_patch(rect_ori)\n",
        "\n",
        "    # for each test image, there could be multiple predictions\n",
        "    for y_pred in y_preds[i]:\n",
        "      rect_pred = create_patch_rectangle(y_pred*IMAGE_SIZE, (255/255, 0, 0))\n",
        "      axis.add_patch(rect_pred)\n",
        "\n",
        "    iou = bb_iou(to_rect(y_preds_avg[i]*IMAGE_SIZE), to_rect(y_gt[i]*IMAGE_SIZE))\n",
        "    plt.title(\"IOU: {:0.2f} std: {:0.2f}\".format(iou, mean_stds[i]))\n",
        "    # plt.title(\"mean std: {:0.2f}\".format(mean_stds[sample_ids[i]]))\n",
        "    plt.imshow(np.clip(image, 0, 1))"
      ],
      "execution_count": null,
      "outputs": []
    },
    {
      "cell_type": "code",
      "metadata": {
        "id": "BMO_P4YTcTFp"
      },
      "source": [
        "def plot_stats(stats, types, titles):\n",
        "  x_bar = np.arange(K)\n",
        "  bar_width = .35\n",
        "\n",
        "  fig = plt.figure(figsize=(20,40))\n",
        "\n",
        "  for i, stat in zip(range(len(stats)), stats):\n",
        "    ax = fig.add_subplot(10, 4, i+1)\n",
        "    # plt.axis('off')\n",
        "\n",
        "    for t in types:\n",
        "      if \"mAP\" == t:\n",
        "        rects1 = ax.bar(x_bar - bar_width/3, stat[:, 0], label=\"mAP\")\n",
        "      if \"std\" == t:\n",
        "        rects2 = ax.bar(x_bar + bar_width/3, stat[:, 1], label=\"std\")\n",
        "      if \"accuracy\" == t:\n",
        "        rects3 = ax.bar(x_bar + bar_width/3, stat[:, 2], label=\"accuracy\")\n",
        "\n",
        "    ax.set_xticks(x_bar)\n",
        "    ax.set_xticklabels(x_bar)\n",
        "    ax.set_title(titles[i])\n",
        "\n",
        "    ax.legend()\n",
        "\n",
        "  fig.tight_layout()"
      ],
      "execution_count": null,
      "outputs": []
    },
    {
      "cell_type": "code",
      "metadata": {
        "id": "Rb6301Qh8JeI"
      },
      "source": [
        "# plot line graph for comparing different noise level results\n",
        "def plot_stats_by_type(stats, x_bins, column, title, clusters=bins, merge=False):\n",
        "  fig = plt.figure(figsize=(20,40))\n",
        "  ax = fig.add_subplot(10, 4, 1)\n",
        "\n",
        "  if merge:\n",
        "    p = ax.plot(x_bins, [np.mean(run) for run in stats_noise[:, :, 1]], label='avg')\n",
        "  else:\n",
        "    x_bins_len = len(x_bins)\n",
        "    for cluster_id in range(len(clusters)):\n",
        "      p = ax.plot(x_bins, stats[:x_bins_len, :, column][:, cluster_id], label=cluster_id)\n",
        "    # p = ax.plot(noise_levels, stats[:bins, :, column][:, 0], color='green', label='0')\n",
        "\n",
        "  ax.set_title(title)\n",
        "  ax.legend()"
      ],
      "execution_count": null,
      "outputs": []
    },
    {
      "cell_type": "markdown",
      "metadata": {
        "id": "F4LhzE89ZYvL"
      },
      "source": [
        "## Execution"
      ]
    },
    {
      "cell_type": "code",
      "metadata": {
        "id": "XLnXXxhjZZ_R"
      },
      "source": [
        "\n",
        "_, m_ap, std, accuracy = predict_on_cluster(model_prob, X_test_d[0], y_test_d[0], is_plot_predictions=True, iterations=100)\n",
        "print(\"{} mAP: {:0.2f} std: {:0.2f} acc: {:0.2f}\".format(0,\n",
        "                                                          m_ap['avg_prec'],\n",
        "                                                          std,\n",
        "                                                          accuracy))\n"
      ],
      "execution_count": null,
      "outputs": []
    }
  ]
}